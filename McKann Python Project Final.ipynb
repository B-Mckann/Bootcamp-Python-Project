{
 "cells": [
  {
   "cell_type": "markdown",
   "metadata": {},
   "source": [
    "# Happiness Rank 2015"
   ]
  },
  {
   "cell_type": "code",
   "execution_count": 1,
   "metadata": {},
   "outputs": [],
   "source": [
    "# Import tools to work with data frame\n",
    "import pandas as pd\n",
    "import numpy as np\n",
    "from matplotlib import pyplot\n",
    "import seaborn as sns\n",
    "\n",
    "# convert csv to data frame\n",
    "df = pd.read_csv('C:\\\\Users\\\\britt\\\\Downloads\\\\Happiness dataset\\\\output.csv')\n",
    "\n",
    "#clean data to look at the year 2015\n",
    "df_2015 = df[:158]"
   ]
  },
  {
   "cell_type": "markdown",
   "metadata": {},
   "source": [
    "# Is GDP a good indicator of a high happiness ranking?"
   ]
  },
  {
   "cell_type": "code",
   "execution_count": 2,
   "metadata": {},
   "outputs": [
    {
     "name": "stdout",
     "output_type": "stream",
     "text": [
      "                 Country  Happiness Rank  Economy (GDP per Capita)\n",
      "11            Costa Rica            12.0                   0.95578\n",
      "15                Brazil            16.0                   0.98124\n",
      "13                Mexico            14.0                   1.02054\n",
      "22             Venezuela            23.0                   1.04424\n",
      "24                Panama            25.0                   1.06353\n",
      "10                Israel            11.0                   1.22857\n",
      "8            New Zealand             9.0                   1.25018\n",
      "20        United Kingdom            21.0                   1.26637\n",
      "5                Finland             6.0                   1.29025\n",
      "1                Iceland             2.0                   1.30232\n",
      "18               Belgium            19.0                   1.30782\n",
      "2                Denmark             3.0                   1.32548\n",
      "4                 Canada             5.0                   1.32629\n",
      "6            Netherlands             7.0                   1.32944\n",
      "7                 Sweden             8.0                   1.33171\n",
      "9              Australia            10.0                   1.33358\n",
      "17               Ireland            18.0                   1.33596\n",
      "12               Austria            13.0                   1.33723\n",
      "21                  Oman            22.0                   1.36011\n",
      "14         United States            15.0                   1.39451\n",
      "0            Switzerland             1.0                   1.39651\n",
      "19  United Arab Emirates            20.0                   1.42727\n",
      "3                 Norway             4.0                   1.45900\n",
      "23             Singapore            24.0                   1.52186\n",
      "16            Luxembourg            17.0                   1.56391\n"
     ]
    }
   ],
   "source": [
    "# pull top 25 happiest countries\n",
    "top25_df = df_2015.head(25)\n",
    "\n",
    "# sort by GDP per capita\n",
    "top25_economysort = top25_df.sort_values(by=['Economy (GDP per Capita)'])\n",
    "print(top25_economysort[['Country','Happiness Rank','Economy (GDP per Capita)']])\n"
   ]
  },
  {
   "cell_type": "code",
   "execution_count": 3,
   "metadata": {},
   "outputs": [
    {
     "name": "stdout",
     "output_type": "stream",
     "text": [
      "                 Country  Happiness Rank  Economy (GDP per Capita)\n",
      "27                 Qatar            28.0                   1.69042\n",
      "16            Luxembourg            17.0                   1.56391\n",
      "38                Kuwait            39.0                   1.55422\n",
      "23             Singapore            24.0                   1.52186\n",
      "3                 Norway             4.0                   1.45900\n",
      "19  United Arab Emirates            20.0                   1.42727\n",
      "0            Switzerland             1.0                   1.39651\n",
      "34          Saudi Arabia            35.0                   1.39541\n",
      "14         United States            15.0                   1.39451\n",
      "71             Hong Kong            72.0                   1.38604\n",
      "21                  Oman            22.0                   1.36011\n",
      "12               Austria            13.0                   1.33723\n",
      "17               Ireland            18.0                   1.33596\n",
      "9              Australia            10.0                   1.33358\n",
      "7                 Sweden             8.0                   1.33171\n",
      "6            Netherlands             7.0                   1.32944\n",
      "25               Germany            26.0                   1.32792\n",
      "4                 Canada             5.0                   1.32629\n",
      "2                Denmark             3.0                   1.32548\n",
      "48               Bahrain            49.0                   1.32376\n",
      "18               Belgium            19.0                   1.30782\n",
      "1                Iceland             2.0                   1.30232\n",
      "37                Taiwan            38.0                   1.29098\n",
      "5                Finland             6.0                   1.29025\n",
      "28                France            29.0                   1.27778\n"
     ]
    }
   ],
   "source": [
    "# What is the max GDP per capita and what is that countries happiness rank?\n",
    "econsort = df_2015.sort_values(by=['Economy (GDP per Capita)'], ascending=False)\n",
    "econsort.head(1)\n",
    "\n",
    "print(econsort[['Country','Happiness Rank','Economy (GDP per Capita)']].head(25))"
   ]
  },
  {
   "cell_type": "code",
   "execution_count": 4,
   "metadata": {},
   "outputs": [
    {
     "name": "stdout",
     "output_type": "stream",
     "text": [
      "                 Country  Happiness Rank  Economy (GDP per Capita)  \\\n",
      "0            Switzerland             1.0                   1.39651   \n",
      "1                Iceland             2.0                   1.30232   \n",
      "2                Denmark             3.0                   1.32548   \n",
      "3                 Norway             4.0                   1.45900   \n",
      "4                 Canada             5.0                   1.32629   \n",
      "5                Finland             6.0                   1.29025   \n",
      "6            Netherlands             7.0                   1.32944   \n",
      "7                 Sweden             8.0                   1.33171   \n",
      "8            New Zealand             9.0                   1.25018   \n",
      "9              Australia            10.0                   1.33358   \n",
      "10                Israel            11.0                   1.22857   \n",
      "11            Costa Rica            12.0                   0.95578   \n",
      "12               Austria            13.0                   1.33723   \n",
      "13                Mexico            14.0                   1.02054   \n",
      "14         United States            15.0                   1.39451   \n",
      "15                Brazil            16.0                   0.98124   \n",
      "16            Luxembourg            17.0                   1.56391   \n",
      "17               Ireland            18.0                   1.33596   \n",
      "18               Belgium            19.0                   1.30782   \n",
      "19  United Arab Emirates            20.0                   1.42727   \n",
      "20        United Kingdom            21.0                   1.26637   \n",
      "21                  Oman            22.0                   1.36011   \n",
      "22             Venezuela            23.0                   1.04424   \n",
      "23             Singapore            24.0                   1.52186   \n",
      "24                Panama            25.0                   1.06353   \n",
      "\n",
      "    Economy Z_Score25  \n",
      "0            1.365280  \n",
      "1            1.131628  \n",
      "2            1.189080  \n",
      "3            1.520296  \n",
      "4            1.191089  \n",
      "5            1.101687  \n",
      "6            1.198903  \n",
      "7            1.204534  \n",
      "8            1.002287  \n",
      "9            1.209173  \n",
      "10           0.948680  \n",
      "11           0.271985  \n",
      "12           1.218227  \n",
      "13           0.432632  \n",
      "14           1.360319  \n",
      "15           0.335142  \n",
      "16           1.780540  \n",
      "17           1.215077  \n",
      "18           1.145272  \n",
      "19           1.441585  \n",
      "20           1.042449  \n",
      "21           1.274985  \n",
      "22           0.491423  \n",
      "23           1.676229  \n",
      "24           0.539275  \n"
     ]
    },
    {
     "name": "stderr",
     "output_type": "stream",
     "text": [
      "C:\\Users\\britt\\anaconda3\\lib\\site-packages\\pandas\\core\\frame.py:3065: SettingWithCopyWarning: \n",
      "A value is trying to be set on a copy of a slice from a DataFrame.\n",
      "Try using .loc[row_indexer,col_indexer] = value instead\n",
      "\n",
      "See the caveats in the documentation: https://pandas.pydata.org/pandas-docs/stable/user_guide/indexing.html#returning-a-view-versus-a-copy\n",
      "  self[k1] = value[k2]\n"
     ]
    }
   ],
   "source": [
    "# Take mean and compare it to the GDP of the top 25\n",
    "Econmean = df_2015[['Economy (GDP per Capita)']].mean()\n",
    "Econstd = df_2015[['Economy (GDP per Capita)']].std()\n",
    "\n",
    "# Calculates the Statistic z-score\n",
    "top25_df[['Economy Z_Score25']] = (top25_df[['Economy (GDP per Capita)']] - Econmean) / Econstd\n",
    "\n",
    "print(top25_df[['Country','Happiness Rank','Economy (GDP per Capita)','Economy Z_Score25']])"
   ]
  },
  {
   "cell_type": "code",
   "execution_count": 5,
   "metadata": {},
   "outputs": [
    {
     "data": {
      "text/plain": [
       "(array([ 7., 17., 14., 14., 19., 24., 26., 26.,  7.,  4.]),\n",
       " array([0.      , 0.169042, 0.338084, 0.507126, 0.676168, 0.84521 ,\n",
       "        1.014252, 1.183294, 1.352336, 1.521378, 1.69042 ]),\n",
       " <BarContainer object of 10 artists>)"
      ]
     },
     "execution_count": 5,
     "metadata": {},
     "output_type": "execute_result"
    },
    {
     "data": {
      "image/png": "[encoded data removed]",
      "text/plain": [
       "<Figure size 432x288 with 1 Axes>"
      ]
     },
     "metadata": {
      "needs_background": "light"
     },
     "output_type": "display_data"
    }
   ],
   "source": [
    "#plot histogram for GPD per capita\n",
    "pyplot.hist(df_2015[['Economy (GDP per Capita)']])\n"
   ]
  },
  {
   "cell_type": "code",
   "execution_count": 6,
   "metadata": {},
   "outputs": [
    {
     "name": "stderr",
     "output_type": "stream",
     "text": [
      "C:\\Users\\britt\\anaconda3\\lib\\site-packages\\seaborn\\_decorators.py:36: FutureWarning: Pass the following variables as keyword args: x, y. From version 0.12, the only valid positional argument will be `data`, and passing other arguments without an explicit keyword will result in an error or misinterpretation.\n",
      "  warnings.warn(\n"
     ]
    },
    {
     "data": {
      "text/plain": [
       "<AxesSubplot:xlabel='Happiness Rank', ylabel='Economy (GDP per Capita)'>"
      ]
     },
     "execution_count": 6,
     "metadata": {},
     "output_type": "execute_result"
    },
    {
     "data": {
      "image/png": "[encoded data removed]",
      "text/plain": [
       "<Figure size 432x288 with 1 Axes>"
      ]
     },
     "metadata": {
      "needs_background": "light"
     },
     "output_type": "display_data"
    }
   ],
   "source": [
    "#scatter plot with linear regression line\n",
    "sns.regplot(df_2015[['Happiness Rank']], df_2015[['Economy (GDP per Capita)']])"
   ]
  },
  {
   "cell_type": "code",
   "execution_count": 7,
   "metadata": {},
   "outputs": [
    {
     "name": "stderr",
     "output_type": "stream",
     "text": [
      "C:\\Users\\britt\\anaconda3\\lib\\site-packages\\pandas\\core\\frame.py:3065: SettingWithCopyWarning: \n",
      "A value is trying to be set on a copy of a slice from a DataFrame.\n",
      "Try using .loc[row_indexer,col_indexer] = value instead\n",
      "\n",
      "See the caveats in the documentation: https://pandas.pydata.org/pandas-docs/stable/user_guide/indexing.html#returning-a-view-versus-a-copy\n",
      "  self[k1] = value[k2]\n"
     ]
    },
    {
     "data": {
      "text/plain": [
       "<AxesSubplot:xlabel='Happiness Rank', ylabel='Economy Z_Score'>"
      ]
     },
     "execution_count": 7,
     "metadata": {},
     "output_type": "execute_result"
    },
    {
     "data": {
      "image/png": "[encoded data removed]",
      "text/plain": [
       "<Figure size 432x288 with 1 Axes>"
      ]
     },
     "metadata": {
      "needs_background": "light"
     },
     "output_type": "display_data"
    }
   ],
   "source": [
    "# Plot the happiness rank by z-score\n",
    "df_2015[['Economy Z_Score']] = (df_2015[['Economy (GDP per Capita)']] - Econmean) / Econstd\n",
    "\n",
    "df_2015.plot.scatter(x='Happiness Rank', y='Economy Z_Score')"
   ]
  },
  {
   "cell_type": "markdown",
   "metadata": {},
   "source": [
    "Notes:\n",
    "There is a trend between GDP per capita and the happiness ranking of a country. Nearly all those in the top 25 are a standard deviation higher than the mean of all the countries measured. From the scatter plot, a correlation is present, but it is not extraordinarily clear as there is still quite a range from the line of best fit."
   ]
  },
  {
   "cell_type": "markdown",
   "metadata": {},
   "source": [
    "# What is the biggest predictor of ranking low in the Happiness Rank?"
   ]
  },
  {
   "cell_type": "code",
   "execution_count": 8,
   "metadata": {},
   "outputs": [
    {
     "data": {
      "text/html": [
       "<div>\n",
       "<style scoped>\n",
       "    .dataframe tbody tr th:only-of-type {\n",
       "        vertical-align: middle;\n",
       "    }\n",
       "\n",
       "    .dataframe tbody tr th {\n",
       "        vertical-align: top;\n",
       "    }\n",
       "\n",
       "    .dataframe thead th {\n",
       "        text-align: right;\n",
       "    }\n",
       "</style>\n",
       "<table border=\"1\" class=\"dataframe\">\n",
       "  <thead>\n",
       "    <tr style=\"text-align: right;\">\n",
       "      <th></th>\n",
       "      <th>Country</th>\n",
       "    </tr>\n",
       "    <tr>\n",
       "      <th>Region</th>\n",
       "      <th></th>\n",
       "    </tr>\n",
       "  </thead>\n",
       "  <tbody>\n",
       "    <tr>\n",
       "      <th>Central and Eastern Europe</th>\n",
       "      <td>4</td>\n",
       "    </tr>\n",
       "    <tr>\n",
       "      <th>Latin America and Caribbean</th>\n",
       "      <td>1</td>\n",
       "    </tr>\n",
       "    <tr>\n",
       "      <th>Middle East and Northern Africa</th>\n",
       "      <td>5</td>\n",
       "    </tr>\n",
       "    <tr>\n",
       "      <th>Southeastern Asia</th>\n",
       "      <td>2</td>\n",
       "    </tr>\n",
       "    <tr>\n",
       "      <th>Southern Asia</th>\n",
       "      <td>5</td>\n",
       "    </tr>\n",
       "    <tr>\n",
       "      <th>Sub-Saharan Africa</th>\n",
       "      <td>33</td>\n",
       "    </tr>\n",
       "  </tbody>\n",
       "</table>\n",
       "</div>"
      ],
      "text/plain": [
       "                                 Country\n",
       "Region                                  \n",
       "Central and Eastern Europe             4\n",
       "Latin America and Caribbean            1\n",
       "Middle East and Northern Africa        5\n",
       "Southeastern Asia                      2\n",
       "Southern Asia                          5\n",
       "Sub-Saharan Africa                    33"
      ]
     },
     "execution_count": 8,
     "metadata": {},
     "output_type": "execute_result"
    }
   ],
   "source": [
    "# pull bottom 50\n",
    "bottom50 = df_2015[-50:]\n",
    "# count number of countries per region\n",
    "bottom50[['Region','Country']].groupby('Region').count()\n"
   ]
  },
  {
   "cell_type": "code",
   "execution_count": 9,
   "metadata": {},
   "outputs": [
    {
     "data": {
      "text/html": [
       "<div>\n",
       "<style scoped>\n",
       "    .dataframe tbody tr th:only-of-type {\n",
       "        vertical-align: middle;\n",
       "    }\n",
       "\n",
       "    .dataframe tbody tr th {\n",
       "        vertical-align: top;\n",
       "    }\n",
       "\n",
       "    .dataframe thead th {\n",
       "        text-align: right;\n",
       "    }\n",
       "</style>\n",
       "<table border=\"1\" class=\"dataframe\">\n",
       "  <thead>\n",
       "    <tr style=\"text-align: right;\">\n",
       "      <th></th>\n",
       "      <th>Country</th>\n",
       "    </tr>\n",
       "    <tr>\n",
       "      <th>Region</th>\n",
       "      <th></th>\n",
       "    </tr>\n",
       "  </thead>\n",
       "  <tbody>\n",
       "    <tr>\n",
       "      <th>Australia and New Zealand</th>\n",
       "      <td>2</td>\n",
       "    </tr>\n",
       "    <tr>\n",
       "      <th>Central and Eastern Europe</th>\n",
       "      <td>29</td>\n",
       "    </tr>\n",
       "    <tr>\n",
       "      <th>Eastern Asia</th>\n",
       "      <td>6</td>\n",
       "    </tr>\n",
       "    <tr>\n",
       "      <th>Latin America and Caribbean</th>\n",
       "      <td>22</td>\n",
       "    </tr>\n",
       "    <tr>\n",
       "      <th>Middle East and Northern Africa</th>\n",
       "      <td>20</td>\n",
       "    </tr>\n",
       "    <tr>\n",
       "      <th>North America</th>\n",
       "      <td>2</td>\n",
       "    </tr>\n",
       "    <tr>\n",
       "      <th>Southeastern Asia</th>\n",
       "      <td>9</td>\n",
       "    </tr>\n",
       "    <tr>\n",
       "      <th>Southern Asia</th>\n",
       "      <td>7</td>\n",
       "    </tr>\n",
       "    <tr>\n",
       "      <th>Sub-Saharan Africa</th>\n",
       "      <td>40</td>\n",
       "    </tr>\n",
       "    <tr>\n",
       "      <th>Western Europe</th>\n",
       "      <td>21</td>\n",
       "    </tr>\n",
       "  </tbody>\n",
       "</table>\n",
       "</div>"
      ],
      "text/plain": [
       "                                 Country\n",
       "Region                                  \n",
       "Australia and New Zealand              2\n",
       "Central and Eastern Europe            29\n",
       "Eastern Asia                           6\n",
       "Latin America and Caribbean           22\n",
       "Middle East and Northern Africa       20\n",
       "North America                          2\n",
       "Southeastern Asia                      9\n",
       "Southern Asia                          7\n",
       "Sub-Saharan Africa                    40\n",
       "Western Europe                        21"
      ]
     },
     "execution_count": 9,
     "metadata": {},
     "output_type": "execute_result"
    }
   ],
   "source": [
    "# compare to number countries per region in the dataset\n",
    "df_2015[['Region','Country']].groupby('Region').count()"
   ]
  },
  {
   "cell_type": "code",
   "execution_count": 10,
   "metadata": {},
   "outputs": [],
   "source": [
    "# bottom 50 number of countries per region\n",
    "bottom50_count = pd.DataFrame(bottom50[['Region','Country']].groupby('Region').count())\n",
    "b50_count = bottom50_count.reset_index()\n",
    "\n",
    "# countries per region whole list with Happiness rankings\n",
    "reg_country_count = df_2015[['Region','Country']].groupby('Region').count()\n",
    "region_country_count = reg_country_count.reset_index()\n"
   ]
  },
  {
   "cell_type": "code",
   "execution_count": 11,
   "metadata": {
    "scrolled": true
   },
   "outputs": [],
   "source": [
    "# calculation the proportion of countries in a region in the bottom 50 of happiness\n",
    "t_dict = {}\n",
    "\n",
    "for row in b50_count[['Region']].values:\n",
    "    region = row[0]\n",
    "    t_dict[region] = b50_count[b50_count['Region'] == region]['Country'].values[0] / region_country_count[region_country_count['Region'] == region]['Country'].values[0]\n",
    "    "
   ]
  },
  {
   "cell_type": "code",
   "execution_count": 12,
   "metadata": {},
   "outputs": [
    {
     "data": {
      "text/html": [
       "<div>\n",
       "<style scoped>\n",
       "    .dataframe tbody tr th:only-of-type {\n",
       "        vertical-align: middle;\n",
       "    }\n",
       "\n",
       "    .dataframe tbody tr th {\n",
       "        vertical-align: top;\n",
       "    }\n",
       "\n",
       "    .dataframe thead th {\n",
       "        text-align: right;\n",
       "    }\n",
       "</style>\n",
       "<table border=\"1\" class=\"dataframe\">\n",
       "  <thead>\n",
       "    <tr style=\"text-align: right;\">\n",
       "      <th></th>\n",
       "      <th>Region</th>\n",
       "      <th>Country Count</th>\n",
       "      <th>Proportion of region</th>\n",
       "    </tr>\n",
       "  </thead>\n",
       "  <tbody>\n",
       "    <tr>\n",
       "      <th>0</th>\n",
       "      <td>Central and Eastern Europe</td>\n",
       "      <td>4</td>\n",
       "      <td>0.137931</td>\n",
       "    </tr>\n",
       "    <tr>\n",
       "      <th>1</th>\n",
       "      <td>Latin America and Caribbean</td>\n",
       "      <td>1</td>\n",
       "      <td>0.045455</td>\n",
       "    </tr>\n",
       "    <tr>\n",
       "      <th>2</th>\n",
       "      <td>Middle East and Northern Africa</td>\n",
       "      <td>5</td>\n",
       "      <td>0.250000</td>\n",
       "    </tr>\n",
       "    <tr>\n",
       "      <th>3</th>\n",
       "      <td>Southeastern Asia</td>\n",
       "      <td>2</td>\n",
       "      <td>0.222222</td>\n",
       "    </tr>\n",
       "    <tr>\n",
       "      <th>4</th>\n",
       "      <td>Southern Asia</td>\n",
       "      <td>5</td>\n",
       "      <td>0.714286</td>\n",
       "    </tr>\n",
       "    <tr>\n",
       "      <th>5</th>\n",
       "      <td>Sub-Saharan Africa</td>\n",
       "      <td>33</td>\n",
       "      <td>0.825000</td>\n",
       "    </tr>\n",
       "  </tbody>\n",
       "</table>\n",
       "</div>"
      ],
      "text/plain": [
       "                            Region  Country Count  Proportion of region\n",
       "0       Central and Eastern Europe              4              0.137931\n",
       "1      Latin America and Caribbean              1              0.045455\n",
       "2  Middle East and Northern Africa              5              0.250000\n",
       "3                Southeastern Asia              2              0.222222\n",
       "4                    Southern Asia              5              0.714286\n",
       "5               Sub-Saharan Africa             33              0.825000"
      ]
     },
     "execution_count": 12,
     "metadata": {},
     "output_type": "execute_result"
    }
   ],
   "source": [
    "# add to b50_count table\n",
    "b50_count['Proportion of region'] = t_dict.values()\n",
    "b50_count.rename(columns={'Country':'Country Count'}) "
   ]
  },
  {
   "cell_type": "code",
   "execution_count": 13,
   "metadata": {},
   "outputs": [
    {
     "name": "stdout",
     "output_type": "stream",
     "text": [
      "                              Region                   Country  \\\n",
      "110       Central and Eastern Europe                   Ukraine   \n",
      "129       Central and Eastern Europe                   Georgia   \n",
      "133       Central and Eastern Europe                  Bulgaria   \n",
      "126       Central and Eastern Europe                   Armenia   \n",
      "118      Latin America and Caribbean                     Haiti   \n",
      "134  Middle East and Northern Africa                     Egypt   \n",
      "109  Middle East and Northern Africa                      Iran   \n",
      "111  Middle East and Northern Africa                      Iraq   \n",
      "155  Middle East and Northern Africa                     Syria   \n",
      "135  Middle East and Northern Africa                     Yemen   \n",
      "128                Southeastern Asia                   Myanmar   \n",
      "144                Southeastern Asia                  Cambodia   \n",
      "120                    Southern Asia                     Nepal   \n",
      "131                    Southern Asia                 Sri Lanka   \n",
      "152                    Southern Asia               Afghanistan   \n",
      "116                    Southern Asia                     India   \n",
      "108                    Southern Asia                Bangladesh   \n",
      "142               Sub-Saharan Africa                     Gabon   \n",
      "143               Sub-Saharan Africa                     Niger   \n",
      "141               Sub-Saharan Africa                   Senegal   \n",
      "147               Sub-Saharan Africa  Central African Republic   \n",
      "146               Sub-Saharan Africa                Madagascar   \n",
      "140               Sub-Saharan Africa                    Uganda   \n",
      "148               Sub-Saharan Africa                      Chad   \n",
      "149               Sub-Saharan Africa                    Guinea   \n",
      "150               Sub-Saharan Africa               Ivory Coast   \n",
      "151               Sub-Saharan Africa              Burkina Faso   \n",
      "153               Sub-Saharan Africa                    Rwanda   \n",
      "154               Sub-Saharan Africa                     Benin   \n",
      "145               Sub-Saharan Africa                  Tanzania   \n",
      "139               Sub-Saharan Africa                   Comoros   \n",
      "132               Sub-Saharan Africa                  Cameroon   \n",
      "137               Sub-Saharan Africa                      Mali   \n",
      "112               Sub-Saharan Africa              South Africa   \n",
      "113               Sub-Saharan Africa                     Ghana   \n",
      "114               Sub-Saharan Africa                  Zimbabwe   \n",
      "115               Sub-Saharan Africa                   Liberia   \n",
      "117               Sub-Saharan Africa                     Sudan   \n",
      "119               Sub-Saharan Africa          Congo (Kinshasa)   \n",
      "121               Sub-Saharan Africa                  Ethiopia   \n",
      "122               Sub-Saharan Africa              Sierra Leone   \n",
      "123               Sub-Saharan Africa                Mauritania   \n",
      "124               Sub-Saharan Africa                     Kenya   \n",
      "125               Sub-Saharan Africa                  Djibouti   \n",
      "127               Sub-Saharan Africa                  Botswana   \n",
      "130               Sub-Saharan Africa                    Malawi   \n",
      "156               Sub-Saharan Africa                   Burundi   \n",
      "136               Sub-Saharan Africa                    Angola   \n",
      "138               Sub-Saharan Africa       Congo (Brazzaville)   \n",
      "157               Sub-Saharan Africa                      Togo   \n",
      "\n",
      "     Happiness Rank  Health (Life Expectancy)  Freedom  \\\n",
      "110           111.0                   0.67390  0.25123   \n",
      "129           130.0                   0.72926  0.40577   \n",
      "133           134.0                   0.76649  0.30587   \n",
      "126           127.0                   0.72990  0.19847   \n",
      "118           119.0                   0.38847  0.24425   \n",
      "134           135.0                   0.61712  0.17288   \n",
      "109           110.0                   0.69805  0.30033   \n",
      "111           112.0                   0.60237  0.00000   \n",
      "155           156.0                   0.72193  0.15684   \n",
      "135           136.0                   0.40064  0.35571   \n",
      "128           129.0                   0.48246  0.44017   \n",
      "144           145.0                   0.61114  0.66246   \n",
      "120           121.0                   0.56874  0.38282   \n",
      "131           132.0                   0.70806  0.53726   \n",
      "152           153.0                   0.30335  0.23414   \n",
      "116           117.0                   0.51529  0.39786   \n",
      "108           109.0                   0.60164  0.40820   \n",
      "142           143.0                   0.43372  0.31914   \n",
      "143           144.0                   0.29707  0.47692   \n",
      "141           142.0                   0.43540  0.36772   \n",
      "147           148.0                   0.06699  0.48879   \n",
      "146           147.0                   0.46721  0.19184   \n",
      "140           141.0                   0.33861  0.45727   \n",
      "148           149.0                   0.15010  0.23501   \n",
      "149           150.0                   0.24009  0.37725   \n",
      "150           151.0                   0.15185  0.46866   \n",
      "151           152.0                   0.27125  0.39493   \n",
      "153           154.0                   0.42864  0.59201   \n",
      "154           155.0                   0.31910  0.48450   \n",
      "145           146.0                   0.38215  0.32878   \n",
      "139           140.0                   0.36315  0.22917   \n",
      "132           133.0                   0.23402  0.49309   \n",
      "137           138.0                   0.20583  0.38857   \n",
      "112           113.0                   0.27688  0.33207   \n",
      "113           114.0                   0.40132  0.42342   \n",
      "114           115.0                   0.33475  0.25861   \n",
      "115           116.0                   0.34201  0.28531   \n",
      "117           118.0                   0.36878  0.10081   \n",
      "119           120.0                   0.09806  0.22605   \n",
      "121           122.0                   0.44055  0.43450   \n",
      "122           123.0                   0.00000  0.40840   \n",
      "123           124.0                   0.35874  0.24232   \n",
      "124           125.0                   0.41435  0.42215   \n",
      "125           126.0                   0.36291  0.46074   \n",
      "127           128.0                   0.04776  0.49495   \n",
      "130           131.0                   0.22562  0.43054   \n",
      "156           157.0                   0.22396  0.11850   \n",
      "136           137.0                   0.16683  0.10384   \n",
      "138           139.0                   0.31051  0.41466   \n",
      "157           158.0                   0.28443  0.36453   \n",
      "\n",
      "     Trust (Government Corruption)  \n",
      "110                        0.02961  \n",
      "129                        0.38331  \n",
      "133                        0.00872  \n",
      "126                        0.03900  \n",
      "118                        0.17175  \n",
      "134                        0.06324  \n",
      "109                        0.05863  \n",
      "111                        0.13788  \n",
      "155                        0.18906  \n",
      "135                        0.07854  \n",
      "128                        0.19034  \n",
      "144                        0.07247  \n",
      "120                        0.05907  \n",
      "131                        0.09179  \n",
      "152                        0.09719  \n",
      "116                        0.08492  \n",
      "108                        0.12569  \n",
      "142                        0.11091  \n",
      "143                        0.15639  \n",
      "141                        0.10713  \n",
      "147                        0.08289  \n",
      "146                        0.08124  \n",
      "140                        0.07267  \n",
      "148                        0.05269  \n",
      "149                        0.12139  \n",
      "150                        0.17922  \n",
      "151                        0.12832  \n",
      "153                        0.55191  \n",
      "154                        0.08010  \n",
      "145                        0.05747  \n",
      "139                        0.19900  \n",
      "132                        0.05786  \n",
      "137                        0.12352  \n",
      "112                        0.08884  \n",
      "113                        0.04355  \n",
      "114                        0.08079  \n",
      "115                        0.06232  \n",
      "117                        0.14660  \n",
      "119                        0.07625  \n",
      "121                        0.15048  \n",
      "122                        0.08786  \n",
      "123                        0.17461  \n",
      "124                        0.05839  \n",
      "125                        0.28105  \n",
      "127                        0.12474  \n",
      "130                        0.06977  \n",
      "156                        0.10062  \n",
      "136                        0.07122  \n",
      "138                        0.11686  \n",
      "157                        0.10731  \n"
     ]
    }
   ],
   "source": [
    "# Look at other factors taken into consideration when calculating the happiness ranking\n",
    "# build table to add features\n",
    "\n",
    "b50_factors = bottom50[['Region','Country','Happiness Rank','Health (Life Expectancy)','Freedom','Trust (Government Corruption)']].sort_values(by=['Region'])\n",
    "\n",
    "print(b50_factors)"
   ]
  },
  {
   "cell_type": "code",
   "execution_count": 14,
   "metadata": {},
   "outputs": [],
   "source": [
    "# Find mean and STD of health\n",
    "health_mean = df_2015[['Health (Life Expectancy)']].mean()\n",
    "health_std = df_2015[['Health (Life Expectancy)']].std()\n",
    "\n",
    "# Find mean and STD of Freedom\n",
    "free_mean = df_2015[['Freedom']].mean()\n",
    "free_std = df_2015[['Freedom']].std()\n",
    "\n",
    "# Find mean and STD of Trust\n",
    "\n",
    "trust_mean = df_2015[['Trust (Government Corruption)']].mean()\n",
    "trust_std = df_2015[['Trust (Government Corruption)']].std()"
   ]
  },
  {
   "cell_type": "code",
   "execution_count": 15,
   "metadata": {},
   "outputs": [],
   "source": [
    "# find the z-scores for each feature\n",
    "\n",
    "# Health z-score\n",
    "b50_factors[['Health (Life Expectancy) z-score']] = (b50_factors[['Health (Life Expectancy)']] - health_mean) / health_std\n",
    "\n",
    "# Freedom z-score\n",
    "b50_factors[['Freedom z-score']] = (b50_factors[['Freedom']] - free_mean) / free_std\n",
    "\n",
    "# Trust z-score\n",
    "b50_factors[['Trust (Government Corruption) z-score']] = (b50_factors[['Trust (Government Corruption)']] - trust_mean) / trust_std"
   ]
  },
  {
   "cell_type": "code",
   "execution_count": 16,
   "metadata": {},
   "outputs": [
    {
     "name": "stdout",
     "output_type": "stream",
     "text": [
      "                              Region                   Country  \\\n",
      "110       Central and Eastern Europe                   Ukraine   \n",
      "129       Central and Eastern Europe                   Georgia   \n",
      "133       Central and Eastern Europe                  Bulgaria   \n",
      "126       Central and Eastern Europe                   Armenia   \n",
      "118      Latin America and Caribbean                     Haiti   \n",
      "134  Middle East and Northern Africa                     Egypt   \n",
      "109  Middle East and Northern Africa                      Iran   \n",
      "111  Middle East and Northern Africa                      Iraq   \n",
      "155  Middle East and Northern Africa                     Syria   \n",
      "135  Middle East and Northern Africa                     Yemen   \n",
      "128                Southeastern Asia                   Myanmar   \n",
      "144                Southeastern Asia                  Cambodia   \n",
      "120                    Southern Asia                     Nepal   \n",
      "131                    Southern Asia                 Sri Lanka   \n",
      "152                    Southern Asia               Afghanistan   \n",
      "116                    Southern Asia                     India   \n",
      "108                    Southern Asia                Bangladesh   \n",
      "142               Sub-Saharan Africa                     Gabon   \n",
      "143               Sub-Saharan Africa                     Niger   \n",
      "141               Sub-Saharan Africa                   Senegal   \n",
      "147               Sub-Saharan Africa  Central African Republic   \n",
      "146               Sub-Saharan Africa                Madagascar   \n",
      "140               Sub-Saharan Africa                    Uganda   \n",
      "148               Sub-Saharan Africa                      Chad   \n",
      "149               Sub-Saharan Africa                    Guinea   \n",
      "150               Sub-Saharan Africa               Ivory Coast   \n",
      "151               Sub-Saharan Africa              Burkina Faso   \n",
      "153               Sub-Saharan Africa                    Rwanda   \n",
      "154               Sub-Saharan Africa                     Benin   \n",
      "145               Sub-Saharan Africa                  Tanzania   \n",
      "139               Sub-Saharan Africa                   Comoros   \n",
      "132               Sub-Saharan Africa                  Cameroon   \n",
      "137               Sub-Saharan Africa                      Mali   \n",
      "112               Sub-Saharan Africa              South Africa   \n",
      "113               Sub-Saharan Africa                     Ghana   \n",
      "114               Sub-Saharan Africa                  Zimbabwe   \n",
      "115               Sub-Saharan Africa                   Liberia   \n",
      "117               Sub-Saharan Africa                     Sudan   \n",
      "119               Sub-Saharan Africa          Congo (Kinshasa)   \n",
      "121               Sub-Saharan Africa                  Ethiopia   \n",
      "122               Sub-Saharan Africa              Sierra Leone   \n",
      "123               Sub-Saharan Africa                Mauritania   \n",
      "124               Sub-Saharan Africa                     Kenya   \n",
      "125               Sub-Saharan Africa                  Djibouti   \n",
      "127               Sub-Saharan Africa                  Botswana   \n",
      "130               Sub-Saharan Africa                    Malawi   \n",
      "156               Sub-Saharan Africa                   Burundi   \n",
      "136               Sub-Saharan Africa                    Angola   \n",
      "138               Sub-Saharan Africa       Congo (Brazzaville)   \n",
      "157               Sub-Saharan Africa                      Togo   \n",
      "\n",
      "     Health (Life Expectancy) z-score  Freedom z-score  \\\n",
      "110                          0.176627        -1.177130   \n",
      "129                          0.400686        -0.151599   \n",
      "133                          0.551367        -0.814538   \n",
      "126                          0.403276        -1.527246   \n",
      "118                         -0.978596        -1.223449   \n",
      "134                         -0.053179        -1.697062   \n",
      "109                          0.274370        -0.851301   \n",
      "111                         -0.112877        -2.844296   \n",
      "155                          0.371019        -1.803503   \n",
      "135                         -0.929340        -0.483798   \n",
      "128                         -0.598190         0.076680   \n",
      "144                         -0.077382         1.551800   \n",
      "120                         -0.248988        -0.303896   \n",
      "131                          0.314883         0.720971   \n",
      "152                         -1.323103        -1.290539   \n",
      "116                         -0.465317        -0.204090   \n",
      "108                         -0.115831        -0.135474   \n",
      "142                         -0.795455        -0.726478   \n",
      "143                         -1.348520         0.320553   \n",
      "141                         -0.788656        -0.404100   \n",
      "147                         -2.279725         0.399323   \n",
      "146                         -0.659911        -1.571243   \n",
      "140                         -1.180395         0.190156   \n",
      "148                         -1.943353        -1.284766   \n",
      "149                         -1.579136        -0.340859   \n",
      "150                         -1.936270         0.265740   \n",
      "151                         -1.453022        -0.223534   \n",
      "153                         -0.816016         1.084293   \n",
      "154                         -1.259358         0.370854   \n",
      "145                         -1.004175        -0.662506   \n",
      "139                         -1.081074        -1.323520   \n",
      "132                         -1.603703         0.427858   \n",
      "137                         -1.717797        -0.265739   \n",
      "112                         -1.430235        -0.640674   \n",
      "113                         -0.926588        -0.034474   \n",
      "114                         -1.196018        -1.128156   \n",
      "115                         -1.166634        -0.950974   \n",
      "117                         -1.058288        -2.175319   \n",
      "119                         -2.153975        -1.344225   \n",
      "121                         -0.767812         0.039053   \n",
      "122                         -2.550854        -0.134147   \n",
      "123                         -1.098923        -1.236257   \n",
      "124                         -0.873852        -0.042901   \n",
      "125                         -1.082045         0.213182   \n",
      "127                         -2.357555         0.440201   \n",
      "130                         -1.637700         0.012775   \n",
      "156                         -1.644419        -2.057928   \n",
      "136                         -1.875642        -2.155212   \n",
      "138                         -1.294124        -0.092605   \n",
      "157                         -1.399678        -0.425269   \n",
      "\n",
      "     Trust (Government Corruption) z-score  \n",
      "110                              -0.948163  \n",
      "129                               1.998501  \n",
      "133                              -1.122197  \n",
      "126                              -0.869935  \n",
      "118                               0.236001  \n",
      "134                              -0.667992  \n",
      "109                              -0.706398  \n",
      "111                              -0.046169  \n",
      "155                               0.380210  \n",
      "135                              -0.540528  \n",
      "128                               0.390874  \n",
      "144                              -0.591097  \n",
      "120                              -0.702732  \n",
      "131                              -0.430143  \n",
      "152                              -0.385156  \n",
      "116                              -0.487377  \n",
      "108                              -0.147723  \n",
      "142                              -0.270855  \n",
      "143                               0.108037  \n",
      "141                              -0.302346  \n",
      "147                              -0.504289  \n",
      "146                              -0.518035  \n",
      "140                              -0.589431  \n",
      "148                              -0.755884  \n",
      "149                              -0.183547  \n",
      "150                               0.298233  \n",
      "151                              -0.125813  \n",
      "153                               3.403102  \n",
      "154                              -0.527532  \n",
      "145                              -0.716062  \n",
      "139                               0.463020  \n",
      "132                              -0.712813  \n",
      "137                              -0.165802  \n",
      "112                              -0.454720  \n",
      "113                              -0.832029  \n",
      "114                              -0.521784  \n",
      "115                              -0.675657  \n",
      "117                               0.026477  \n",
      "119                              -0.559606  \n",
      "121                               0.058801  \n",
      "122                              -0.462884  \n",
      "123                               0.259828  \n",
      "124                              -0.708397  \n",
      "125                               1.146576  \n",
      "127                              -0.155638  \n",
      "130                              -0.613591  \n",
      "156                              -0.356581  \n",
      "136                              -0.601511  \n",
      "138                              -0.221286  \n",
      "157                              -0.300847  \n"
     ]
    }
   ],
   "source": [
    "# View z-scores in table\n",
    "\n",
    "print(b50_factors[['Region','Country','Health (Life Expectancy) z-score','Freedom z-score','Trust (Government Corruption) z-score']])"
   ]
  },
  {
   "cell_type": "code",
   "execution_count": 17,
   "metadata": {},
   "outputs": [
    {
     "data": {
      "text/plain": [
       "<AxesSubplot:xlabel='Happiness Rank', ylabel='Trust (Government Corruption) z-score'>"
      ]
     },
     "execution_count": 17,
     "metadata": {},
     "output_type": "execute_result"
    },
    {
     "data": {
      "image/png": "[encoded data removed]",
      "text/plain": [
       "<Figure size 432x288 with 1 Axes>"
      ]
     },
     "metadata": {
      "needs_background": "light"
     },
     "output_type": "display_data"
    },
    {
     "data": {
      "image/png": "[encoded data removed]",
      "text/plain": [
       "<Figure size 432x288 with 1 Axes>"
      ]
     },
     "metadata": {
      "needs_background": "light"
     },
     "output_type": "display_data"
    },
    {
     "data": {
      "image/png": "[encoded data removed]",
      "text/plain": [
       "<Figure size 432x288 with 1 Axes>"
      ]
     },
     "metadata": {
      "needs_background": "light"
     },
     "output_type": "display_data"
    }
   ],
   "source": [
    "# Plot scatterplots of bottom 50 countries by Health, Freedom, and Trust of Government\n",
    "b50_factors.plot.scatter(x='Happiness Rank', y='Health (Life Expectancy) z-score')\n",
    "\n",
    "b50_factors.plot.scatter(x='Happiness Rank', y='Freedom z-score')\n",
    "\n",
    "b50_factors.plot.scatter(x='Happiness Rank', y='Trust (Government Corruption) z-score')"
   ]
  },
  {
   "cell_type": "code",
   "execution_count": 18,
   "metadata": {},
   "outputs": [
    {
     "name": "stderr",
     "output_type": "stream",
     "text": [
      "C:\\Users\\britt\\anaconda3\\lib\\site-packages\\pandas\\core\\frame.py:3065: SettingWithCopyWarning: \n",
      "A value is trying to be set on a copy of a slice from a DataFrame.\n",
      "Try using .loc[row_indexer,col_indexer] = value instead\n",
      "\n",
      "See the caveats in the documentation: https://pandas.pydata.org/pandas-docs/stable/user_guide/indexing.html#returning-a-view-versus-a-copy\n",
      "  self[k1] = value[k2]\n"
     ]
    }
   ],
   "source": [
    "# Compare it to the whole set of data\n",
    "\n",
    "# find the z-scores for each feature\n",
    "\n",
    "# Health z-score\n",
    "df_2015[['Health (Life Expectancy) z-score']] = (df_2015[['Health (Life Expectancy)']] - health_mean) / health_std\n",
    "\n",
    "# Freedom z-score\n",
    "df_2015[['Freedom z-score']] = (df_2015[['Freedom']] - free_mean) / free_std\n",
    "\n",
    "# Trust z-score\n",
    "df_2015[['Trust (Government Corruption) z-score']] = (df_2015[['Trust (Government Corruption)']] - trust_mean) / trust_std"
   ]
  },
  {
   "cell_type": "code",
   "execution_count": 19,
   "metadata": {},
   "outputs": [
    {
     "data": {
      "text/plain": [
       "(array([ 7.,  4., 11., 13.,  8., 17., 24., 38., 24., 12.]),\n",
       " array([0.      , 0.102525, 0.20505 , 0.307575, 0.4101  , 0.512625,\n",
       "        0.61515 , 0.717675, 0.8202  , 0.922725, 1.02525 ]),\n",
       " <BarContainer object of 10 artists>)"
      ]
     },
     "execution_count": 19,
     "metadata": {},
     "output_type": "execute_result"
    },
    {
     "data": {
      "image/png": "[encoded data removed]",
      "text/plain": [
       "<Figure size 432x288 with 1 Axes>"
      ]
     },
     "metadata": {
      "needs_background": "light"
     },
     "output_type": "display_data"
    }
   ],
   "source": [
    "# Check for distribution type (normal, skewed, etc)\n",
    "# histogram plot for Life Expectancy\n",
    "pyplot.hist(df_2015[['Health (Life Expectancy)']])"
   ]
  },
  {
   "cell_type": "code",
   "execution_count": 20,
   "metadata": {},
   "outputs": [
    {
     "data": {
      "text/plain": [
       "(array([ 1.,  6.,  5., 16., 16., 18., 30., 21., 21., 24.]),\n",
       " array([0.      , 0.066973, 0.133946, 0.200919, 0.267892, 0.334865,\n",
       "        0.401838, 0.468811, 0.535784, 0.602757, 0.66973 ]),\n",
       " <BarContainer object of 10 artists>)"
      ]
     },
     "execution_count": 20,
     "metadata": {},
     "output_type": "execute_result"
    },
    {
     "data": {
      "image/png": "[encoded data removed]",
      "text/plain": [
       "<Figure size 432x288 with 1 Axes>"
      ]
     },
     "metadata": {
      "needs_background": "light"
     },
     "output_type": "display_data"
    }
   ],
   "source": [
    "#histogram for Freedom\n",
    "pyplot.hist(df_2015[['Freedom']])"
   ]
  },
  {
   "cell_type": "code",
   "execution_count": 21,
   "metadata": {},
   "outputs": [
    {
     "data": {
      "text/plain": [
       "(array([33., 48., 32., 16.,  4., 10.,  6.,  5.,  2.,  2.]),\n",
       " array([0.      , 0.055191, 0.110382, 0.165573, 0.220764, 0.275955,\n",
       "        0.331146, 0.386337, 0.441528, 0.496719, 0.55191 ]),\n",
       " <BarContainer object of 10 artists>)"
      ]
     },
     "execution_count": 21,
     "metadata": {},
     "output_type": "execute_result"
    },
    {
     "data": {
      "image/png": "[encoded data removed]",
      "text/plain": [
       "<Figure size 432x288 with 1 Axes>"
      ]
     },
     "metadata": {
      "needs_background": "light"
     },
     "output_type": "display_data"
    }
   ],
   "source": [
    "#histogram plot for Trust (Government Corruption)\n",
    "pyplot.hist(df_2015[['Trust (Government Corruption)']])"
   ]
  },
  {
   "cell_type": "code",
   "execution_count": 22,
   "metadata": {},
   "outputs": [
    {
     "data": {
      "text/plain": [
       "<AxesSubplot:xlabel='Happiness Rank', ylabel='Trust (Government Corruption) z-score'>"
      ]
     },
     "execution_count": 22,
     "metadata": {},
     "output_type": "execute_result"
    },
    {
     "data": {
      "image/png": "[encoded data removed]",
      "text/plain": [
       "<Figure size 432x288 with 1 Axes>"
      ]
     },
     "metadata": {
      "needs_background": "light"
     },
     "output_type": "display_data"
    },
    {
     "data": {
      "image/png": "[encoded data removed]",
      "text/plain": [
       "<Figure size 432x288 with 1 Axes>"
      ]
     },
     "metadata": {
      "needs_background": "light"
     },
     "output_type": "display_data"
    },
    {
     "data": {
      "image/png": "[encoded data removed]",
      "text/plain": [
       "<Figure size 432x288 with 1 Axes>"
      ]
     },
     "metadata": {
      "needs_background": "light"
     },
     "output_type": "display_data"
    }
   ],
   "source": [
    "# plot the whole list for each additional feature\n",
    "df_2015.plot.scatter(x='Happiness Rank', y='Health (Life Expectancy) z-score')\n",
    "\n",
    "df_2015.plot.scatter(x='Happiness Rank', y='Freedom z-score')\n",
    "\n",
    "df_2015.plot.scatter(x='Happiness Rank', y='Trust (Government Corruption) z-score')"
   ]
  },
  {
   "cell_type": "markdown",
   "metadata": {},
   "source": [
    "Notes:\n",
    "It appears that countries of Sub-Saharan Africa are generally more unhappy than other regions. Upon further examination of features, it is clear that Health (Life Expectancy) holds the strongest correlation. When looking at the last 50 on the Happiness Rank, the plots are generally inconclusive. When the scope is broadened to the whole list, there is a trend in all three categories. Having higher life expectancy and higher freedom, people tend to be happier. Surprisingly, trust/government corruption was relatively average for most of the sample, including the lowest ranking countries in happiness."
   ]
  }
 ],
 "metadata": {
  "kernelspec": {
   "display_name": "Python 3",
   "language": "python",
   "name": "python3"
  },
  "language_info": {
   "codemirror_mode": {
    "name": "ipython",
    "version": 3
   },
   "file_extension": ".py",
   "mimetype": "text/x-python",
   "name": "python",
   "nbconvert_exporter": "python",
   "pygments_lexer": "ipython3",
   "version": "3.8.5"
  }
 },
 "nbformat": 4,
 "nbformat_minor": 4
}
