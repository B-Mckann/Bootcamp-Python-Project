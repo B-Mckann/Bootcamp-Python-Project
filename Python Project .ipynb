{
 "cells": [
  {
   "cell_type": "code",
   "execution_count": null,
   "metadata": {},
   "outputs": [],
   "source": [
    "# Import tools to work with data frame\n",
    "import pandas as pd\n",
    "import numpy as np\n",
    "\n",
    "# convert csv to data frame\n",
    "df = pd.read_csv('C:\\\\Users\\\\britt\\\\Downloads\\\\Happiness dataset\\\\output.csv')"
   ]
  },
  {
   "cell_type": "markdown",
   "metadata": {},
   "source": [
    "# Is GDP a good indicator of a high happiness ranking?"
   ]
  },
  {
   "cell_type": "code",
   "execution_count": null,
   "metadata": {},
   "outputs": [],
   "source": [
    "# pull top 25 happiest countries\n",
    "top25_df = df.head(25)\n",
    "\n",
    "# sort by GDP per capita\n",
    "top25_economysort = top25_df.sort_values(by=['Economy (GDP per Capita)'])\n",
    "print(top25_economysort[['Country','Happiness Rank','Economy (GDP per Capita)']])\n"
   ]
  },
  {
   "cell_type": "code",
   "execution_count": null,
   "metadata": {},
   "outputs": [],
   "source": [
    "# What is the max GDP per capita and what is that countries happiness rank?\n",
    "econsort = df.sort_values(by=['Economy (GDP per Capita)'], ascending=False)\n",
    "econsort.head(1)\n",
    "\n",
    "print(econsort[['Country','Happiness Rank','Economy (GDP per Capita)']].head(25))"
   ]
  },
  {
   "cell_type": "code",
   "execution_count": null,
   "metadata": {},
   "outputs": [],
   "source": [
    "# Take mean and compare it to the GDP of the top 25\n",
    "Econmean = df[['Economy (GDP per Capita)']].mean()\n",
    "Econstd = df[['Economy (GDP per Capita)']].std()\n",
    "\n",
    "top25_df[['Economy Z_Score25']] = (top25_df[['Economy (GDP per Capita)']] - Econmean) / Econstd\n",
    "\n",
    "print(top25_df[['Country','Happiness Rank','Economy (GDP per Capita)','Economy Z_Score25']])"
   ]
  },
  {
   "cell_type": "code",
   "execution_count": null,
   "metadata": {},
   "outputs": [],
   "source": [
    "# Plot the happiness rank by z-score\n",
    "df[['Economy Z_Score']] = (df[['Economy (GDP per Capita)']] - Econmean) / Econstd\n",
    "\n",
    "df.plot.scatter(x='Happiness Rank', y='Economy Z_Score')"
   ]
  },
  {
   "cell_type": "markdown",
   "metadata": {},
   "source": [
    "Notes:\n",
    "There is a trend between GDP per capita and the happiness ranking of a country. Nearly all those in the top 25 are a standard deviation higher than the mean of all the countries measured. From the scatter plot, a correlation is present, but it is not extraordinarily clear as there is still quite a range from the line of best fit."
   ]
  },
  {
   "cell_type": "markdown",
   "metadata": {},
   "source": [
    "# What is the biggest predictor of ranking low in the Happiness Rank?"
   ]
  },
  {
   "cell_type": "code",
   "execution_count": null,
   "metadata": {},
   "outputs": [],
   "source": [
    "# pull bottom 50\n",
    "df_copy = df[df['Happiness Rank'].notna()]\n",
    "bottom50 = df_copy[-50:]\n",
    "# count number of countries per region\n",
    "bottom50[['Region','Country']].groupby('Region').count()\n"
   ]
  },
  {
   "cell_type": "code",
   "execution_count": null,
   "metadata": {},
   "outputs": [],
   "source": [
    "# compare to number countries per region in the dataset\n",
    "df[['Region','Country']].groupby('Region').count()"
   ]
  },
  {
   "cell_type": "code",
   "execution_count": null,
   "metadata": {},
   "outputs": [],
   "source": [
    "# bottom 50 number of countries per region\n",
    "bottom50_count = pd.DataFrame(bottom50[['Region','Country']].groupby('Region').count())\n",
    "b50_count = bottom50_count.reset_index()\n",
    "\n",
    "# countries per region whole list with Happiness rankings\n",
    "reg_country_count = df[['Region','Country']].groupby('Region').count()\n",
    "region_country_count = reg_country_count.reset_index()\n"
   ]
  },
  {
   "cell_type": "code",
   "execution_count": null,
   "metadata": {
    "scrolled": true
   },
   "outputs": [],
   "source": [
    "# calculation the proportion of countries in a region in the bottom 50 of happiness\n",
    "t_dict = {}\n",
    "\n",
    "for row in b50_count[['Region']].values:\n",
    "    region = row[0]\n",
    "    t_dict[region] = b50_count[b50_count['Region'] == region]['Country'].values[0] / region_country_count[region_country_count['Region'] == region]['Country'].values[0]\n",
    "    "
   ]
  },
  {
   "cell_type": "code",
   "execution_count": null,
   "metadata": {},
   "outputs": [],
   "source": [
    "# add to b50_count table\n",
    "b50_count['Proportion of region'] = t_dict.values()\n",
    "b50_count.rename(columns={'Country':'Country Count'}) "
   ]
  },
  {
   "cell_type": "code",
   "execution_count": null,
   "metadata": {},
   "outputs": [],
   "source": [
    "# Look at other factors taken into consideration when calculating the happiness ranking\n",
    "# build table to add features\n",
    "\n",
    "b50_factors = bottom50[['Region','Country','Happiness Rank','Health (Life Expectancy)','Freedom','Trust (Government Corruption)']].sort_values(by=['Region'])\n",
    "\n",
    "print(b50_factors)"
   ]
  },
  {
   "cell_type": "code",
   "execution_count": null,
   "metadata": {},
   "outputs": [],
   "source": [
    "# Find mean and STD of health\n",
    "health_mean = df[['Health (Life Expectancy)']].mean()\n",
    "health_std = df[['Health (Life Expectancy)']].std()\n",
    "\n",
    "# Find mean and STD of Freedom\n",
    "free_mean = df[['Freedom']].mean()\n",
    "free_std = df[['Freedom']].std()\n",
    "\n",
    "# Find mean and STD of Trust\n",
    "trust_mean = df[['Trust (Government Corruption)']].mean()\n",
    "trust_std = df[['Trust (Government Corruption)']].std()"
   ]
  },
  {
   "cell_type": "code",
   "execution_count": null,
   "metadata": {},
   "outputs": [],
   "source": [
    "# find the z-scores for each feature\n",
    "\n",
    "# Health z-score\n",
    "b50_factors[['Health (Life Expectancy) z-score']] = (b50_factors[['Health (Life Expectancy)']] - health_mean) / health_std\n",
    "\n",
    "# Freedom z-score\n",
    "b50_factors[['Freedom z-score']] = (b50_factors[['Freedom']] - free_mean) / free_std\n",
    "\n",
    "# Trust z-score\n",
    "b50_factors[['Trust (Government Corruption) z-score']] = (b50_factors[['Trust (Government Corruption)']] - trust_mean) / trust_std"
   ]
  },
  {
   "cell_type": "code",
   "execution_count": null,
   "metadata": {},
   "outputs": [],
   "source": [
    "# View z-scores in table\n",
    "\n",
    "print(b50_factors[['Region','Country','Health (Life Expectancy) z-score','Freedom z-score','Trust (Government Corruption) z-score']])"
   ]
  },
  {
   "cell_type": "code",
   "execution_count": null,
   "metadata": {},
   "outputs": [],
   "source": [
    "# Plot scatterplots of bottom 50 countries by Health, Freedom, and Trust of Government\n",
    "b50_factors.plot.scatter(x='Happiness Rank', y='Health (Life Expectancy) z-score')\n",
    "\n",
    "b50_factors.plot.scatter(x='Happiness Rank', y='Freedom z-score')\n",
    "\n",
    "b50_factors.plot.scatter(x='Happiness Rank', y='Trust (Government Corruption) z-score')"
   ]
  },
  {
   "cell_type": "code",
   "execution_count": null,
   "metadata": {},
   "outputs": [],
   "source": [
    "# Compare it to the whole set of data\n",
    "\n",
    "# find the z-scores for each feature\n",
    "\n",
    "# Health z-score\n",
    "df[['Health (Life Expectancy) z-score']] = (df[['Health (Life Expectancy)']] - health_mean) / health_std\n",
    "\n",
    "# Freedom z-score\n",
    "df[['Freedom z-score']] = (df[['Freedom']] - free_mean) / free_std\n",
    "\n",
    "# Trust z-score\n",
    "df[['Trust (Government Corruption) z-score']] = (df[['Trust (Government Corruption)']] - trust_mean) / trust_std"
   ]
  },
  {
   "cell_type": "code",
   "execution_count": null,
   "metadata": {},
   "outputs": [],
   "source": [
    "# plot the whole list for each additional feature\n",
    "df.plot.scatter(x='Happiness Rank', y='Health (Life Expectancy) z-score')\n",
    "\n",
    "df.plot.scatter(x='Happiness Rank', y='Freedom z-score')\n",
    "\n",
    "df.plot.scatter(x='Happiness Rank', y='Trust (Government Corruption) z-score')"
   ]
  },
  {
   "cell_type": "markdown",
   "metadata": {},
   "source": [
    "Notes:\n",
    "It appears that countries of Sub-Saharan Africa are generally more unhappy than other regions. Upon further examination of features, it is clear that Health (Life Expectancy) holds the strongest correlation. When looking at the last 50 on the Happiness Rank, the plots are generally inconclusive. When the scope is broadened to the whole list, there is a trend in all three categories. Having higher life expectancy and higher freedom, people tend to be happier. Surprisingly, trust/government corruption was relatively average for most of the sample, including the lowest ranking countries in happiness."
   ]
  }
 ],
 "metadata": {
  "kernelspec": {
   "display_name": "Python 3",
   "language": "python",
   "name": "python3"
  },
  "language_info": {
   "codemirror_mode": {
    "name": "ipython",
    "version": 3
   },
   "file_extension": ".py",
   "mimetype": "text/x-python",
   "name": "python",
   "nbconvert_exporter": "python",
   "pygments_lexer": "ipython3",
   "version": "3.8.5"
  }
 },
 "nbformat": 4,
 "nbformat_minor": 4
}
